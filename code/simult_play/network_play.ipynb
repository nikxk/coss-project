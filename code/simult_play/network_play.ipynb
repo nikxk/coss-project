{
 "cells": [
  {
   "cell_type": "code",
   "execution_count": 6,
   "metadata": {},
   "outputs": [],
   "source": [
    "import numpy as np\n",
    "import matplotlib.pyplot as plt\n",
    "import pandas as pd\n",
    "import seaborn as sns\n",
    "import csv\n",
    "\n",
    "import torch\n",
    "import torch.nn as nn\n",
    "\n",
    "from tqdm import tqdm"
   ]
  },
  {
   "cell_type": "code",
   "execution_count": 2,
   "metadata": {},
   "outputs": [],
   "source": [
    "class Actions:\n",
    "    ''' \n",
    "    actions.last() returns the last action taken by the agent.\n",
    "    actions.next(action) updates the history of actions taken by the agent with the next action\n",
    "    '''\n",
    "    def __init__(self, actions):\n",
    "        self.all_actions = actions\n",
    "        self.history = [np.random.randint(len(actions))]\n",
    "        self.last_iter = self.history[-1]\n",
    "    \n",
    "    def next(self, action):\n",
    "        self.history.append(action)\n",
    "\n",
    "    def last(self):\n",
    "        return self.last_iter\n",
    "    \n",
    "    def next_iter(self, action):\n",
    "        self.last_iter = action\n",
    "\n",
    "class Costs:\n",
    "    '''\n",
    "    costs.last() returns the last cost incurred by the agent.\n",
    "    costs.receive(cost) updates the history of costs incurred by the agent with the next cost\n",
    "    '''\n",
    "    def __init__(self):\n",
    "        self.reset()\n",
    "        self.last_iter = 0\n",
    "\n",
    "    def receive(self, cost):\n",
    "        self.accumulated += cost\n",
    "        self.history.append(cost)\n",
    "\n",
    "    def last(self):\n",
    "        return self.history[-1]\n",
    "\n",
    "    def reset(self):\n",
    "        self.history = []\n",
    "        self.accumulated = 0"
   ]
  },
  {
   "cell_type": "code",
   "execution_count": 27,
   "metadata": {},
   "outputs": [],
   "source": [
    "class Agent:\n",
    "    def __init__(self, actions, cost_setup, gamma=None):\n",
    "        self.actions = Actions(actions)\n",
    "        self.costs = Costs()\n",
    "        self.cost_ferry, self.cost_alley, self.cost_alley_mult = cost_setup\n",
    "\n",
    "        self.gamma = np.random.rand() if gamma is None else gamma\n",
    "        # self.initBrain()\n",
    "        self.last_turn = 0\n",
    "        self.neighbours = []\n",
    "\n",
    "    # def initBrain(self):\n",
    "    #     self.brain = None\n",
    "\n",
    "    def _update_number_playing(self, action):\n",
    "        return np.array([[1,0], [0,1], [0,0], [1,1]])[action]\n",
    "\n",
    "    def own_cost_playing(self, action, state):\n",
    "        n_BD, n_AC = state\n",
    "        if action == 0:\n",
    "            return self.cost_ferry + self.cost_alley + self.cost_alley_mult * n_BD\n",
    "        elif action == 1:\n",
    "            return self.cost_ferry + self.cost_alley + self.cost_alley_mult * n_AC\n",
    "        elif action == 2:\n",
    "            return 2 * self.cost_ferry\n",
    "        elif action == 3:\n",
    "            return 2 * self.cost_alley + self.cost_alley_mult * (n_BD + n_AC)\n",
    "\n",
    "    def own_cost(self, state):\n",
    "        return self.own_cost_playing(self.actions.last(), state)\n",
    "\n",
    "    def neighbour_cost(self, state):\n",
    "        return sum([neighbour.own_cost(state) for neighbour in self.neighbours]) if self.neighbours else 0\n",
    "\n",
    "    def take_action(self, state):\n",
    "\n",
    "        # exclude agent from current state numbers\n",
    "        new_state = -self._update_number_playing(self.actions.last()) + state\n",
    "\n",
    "        # calculate the cost incurred if the agent takes a certain action (accounting for how the state numbers change afterwards)\n",
    "        g = self.gamma\n",
    "        n = len(self.neighbours)+1\n",
    "\n",
    "        n_if_play_action = [self._update_number_playing(action) + new_state for action in range(4)]\n",
    "\n",
    "        costs = [\n",
    "            # ((1-g)+g/n) * self.own_cost_playing(action, state) + g/n * self.neighbour_cost(state) \n",
    "            self.own_cost_playing(action, state) + g * self.neighbour_cost(state)\n",
    "            if n!=0 else self.own_cost_playing(action, state) for action, state in enumerate(n_if_play_action)]\n",
    "\n",
    "        # take the action with the lowest cost\n",
    "        action = np.argmin(costs)\n",
    "        self.actions.next_iter(action)\n",
    "\n",
    "        return new_state + self._update_number_playing(action)\n",
    "\n",
    "\n",
    "class CongestionGame:\n",
    "    def __init__(self, n_agents=60, cost_setup=(15, 2, 0.2), agent_setup=(None, None), order=None):\n",
    "        self.actions = ['ABD', 'ACD', 'ABCD', 'ACBD']\n",
    "        self.cost_setup = cost_setup\n",
    "        self.n_BD, self.n_AC = 0, 0\n",
    "\n",
    "        self._init_agents(n_agents, agent_setup)\n",
    "        self._iter_reorder = order\n",
    "        self.stage, self.iteration = 0, 0\n",
    "        self.run_history = []\n",
    "        \n",
    "    def _init_agents(self, n_agents, agent_setup):\n",
    "        '''initializes agents and sets number taking BD and AC paths'''\n",
    "        self.n_agents = n_agents\n",
    "        n_neighbours, gamma = agent_setup\n",
    "        self.agents = [Agent(self.actions, self.cost_setup, gamma) for _ in range(n_agents)]\n",
    "        self._update_numbers()\n",
    "\n",
    "        if n_neighbours is not None:\n",
    "            self._set_neighbours(n_neighbours)\n",
    "\n",
    "    def _update_numbers(self):\n",
    "        '''updates number taking BD and AC paths'''\n",
    "        last_actions = [agent.actions.last() for agent in self.agents]\n",
    "\n",
    "        num_of = lambda action: last_actions.count(self.actions.index(action))\n",
    "        self.n_BD = num_of('ABD') + num_of('ACBD')\n",
    "        self.n_AC = num_of('ACD') + num_of('ACBD')\n",
    "    \n",
    "    def _set_neighbours(self, n_neighbours):\n",
    "        '''sets neighbours for each agent assuming agents are in a circle'''\n",
    "        for i, agent in enumerate(self.agents):\n",
    "            agent.neighbours = [self.agents[(i + j) % self.n_agents] for j in range(1, n_neighbours + 1)]\n",
    "\n",
    "    def _num_agents_taking_action(self):\n",
    "        '''returns number of agents taking each action'''\n",
    "        actions = [agent.actions.last() for agent in self.agents]\n",
    "        return [actions.count(action) for action in range(4)]\n",
    "\n",
    "    def play(self, n_stages=1, n_iterations=1, verbose=True):\n",
    "        '''plays the game for n_stages and n_iterations'''\n",
    "\n",
    "        stage_iter = tqdm(range(n_stages)) if verbose else range(n_stages)\n",
    "\n",
    "        for _ in stage_iter:\n",
    "            self.stage += 1\n",
    "            self.iteration = 0\n",
    "            for _ in range(n_iterations):\n",
    "                self.iteration += 1\n",
    "                last_actions = self._num_agents_taking_action()\n",
    "\n",
    "                # decide order of playing\n",
    "                if self._iter_reorder is not None:\n",
    "                    self._iter_reorder(self.agents)\n",
    "\n",
    "                # take actions\n",
    "                for turn, agent in enumerate(self.agents):\n",
    "                    agent.last_turn = turn\n",
    "                    self.n_BD, self.n_AC = agent.take_action([self.n_BD, self.n_AC])\n",
    "\n",
    "                # update costs within iteration, to decide ordering for next iteration\n",
    "                for agent in self.agents:\n",
    "                    agent.costs.last_iter = agent.own_cost([self.n_BD, self.n_AC])\n",
    "\n",
    "                # check if converged (not exactly, but close enough)\n",
    "                if self._num_agents_taking_action() == last_actions:\n",
    "                    break\n",
    "            \n",
    "            # record the action taken by each agent\n",
    "            for agent in self.agents:\n",
    "                agent.actions.next(agent.actions.last())\n",
    "\n",
    "            # update state numbers according to the action taken\n",
    "            self._update_numbers()\n",
    "\n",
    "            # record the cost for each agent\n",
    "            stage_cost = 0\n",
    "            for agent in self.agents:\n",
    "                cost = agent.own_cost([self.n_BD, self.n_AC])\n",
    "                agent.costs.receive(cost)\n",
    "                stage_cost += cost\n",
    "            \n",
    "            self.run_history.append([self.iteration, self._num_agents_taking_action(), stage_cost/self.n_agents])"
   ]
  },
  {
   "cell_type": "code",
   "execution_count": 4,
   "metadata": {},
   "outputs": [],
   "source": [
    "def accumulated_cost_order(agents):\n",
    "    '''orders agents by accumulated cost'''\n",
    "    agents.sort(key=lambda agent: agent.costs.accumulated, reverse = True)\n",
    "\n",
    "def last_cost_order(agents):\n",
    "    '''orders agents by cost of action in last iteration'''\n",
    "    agents.sort(key=lambda agent: agent.costs.last_iter, reverse = True)\n",
    "\n",
    "def last_turn_order(agents):\n",
    "    '''orders agents by turn in last iteration'''\n",
    "    agents.sort(key=lambda agent: agent.last_turn, reverse = True)"
   ]
  },
  {
   "cell_type": "code",
   "execution_count": 30,
   "metadata": {},
   "outputs": [
    {
     "name": "stderr",
     "output_type": "stream",
     "text": [
      "100%|██████████| 10/10 [00:00<00:00, 20.83it/s]"
     ]
    },
    {
     "name": "stdout",
     "output_type": "stream",
     "text": [
      "[2, [11, 11, 15, 23], 22.97333333333329]\n",
      "[1, [11, 11, 15, 23], 22.97333333333329]\n",
      "[1, [11, 11, 15, 23], 22.97333333333329]\n",
      "[1, [11, 11, 15, 23], 22.97333333333329]\n",
      "[1, [11, 11, 15, 23], 22.97333333333329]\n",
      "[1, [11, 11, 15, 23], 22.97333333333329]\n",
      "[1, [11, 11, 15, 23], 22.97333333333329]\n",
      "[1, [11, 11, 15, 23], 22.97333333333329]\n",
      "[1, [11, 11, 15, 23], 22.97333333333329]\n",
      "[1, [11, 11, 15, 23], 22.97333333333329]\n"
     ]
    },
    {
     "name": "stderr",
     "output_type": "stream",
     "text": [
      "\n"
     ]
    }
   ],
   "source": [
    "n_neighbours = 59\n",
    "gamma = 0.9\n",
    "game = CongestionGame(agent_setup=(n_neighbours, gamma), order=last_cost_order)\n",
    "game.play(n_stages=10, n_iterations=100)\n",
    "\n",
    "print(*game.run_history, sep='\\n')"
   ]
  },
  {
   "cell_type": "code",
   "execution_count": null,
   "metadata": {},
   "outputs": [],
   "source": [
    "# for scaled cost\n",
    "record = []\n",
    "\n",
    "gamma_range = list(np.arange(0, 0.8, 0.1)) + list(np.arange(0.8, 1.01, 0.02))\n",
    "neigh_range = list(range(0, 60, 5)) + [59]\n",
    "\n",
    "pbar = tqdm(neigh_range)\n",
    "for n_neighbours in pbar:\n",
    "    for gamma in gamma_range:\n",
    "        pbar.set_description(f'gamma = {gamma:.2f}, n = {n_neighbours}')\n",
    "        game = CongestionGame(agent_setup=(n_neighbours, gamma), order=last_cost_order)\n",
    "        game.play(n_stages=10, n_iterations=100, verbose=False)\n",
    "        min_cost = min([stage[2] for stage in game.run_history])\n",
    "        record.append([n_neighbours, gamma, min_cost])"
   ]
  },
  {
   "cell_type": "code",
   "execution_count": null,
   "metadata": {},
   "outputs": [],
   "source": [
    "# export as a csv file, the record\n",
    "with open('record_scaledcost.csv', 'w', newline='') as f:\n",
    "    writer = csv.writer(f)\n",
    "    writer.writerows(record)"
   ]
  },
  {
   "cell_type": "code",
   "execution_count": 33,
   "metadata": {},
   "outputs": [
    {
     "name": "stderr",
     "output_type": "stream",
     "text": [
      "gamma = 1.00, n = 59: 100%|██████████| 13/13 [01:37<00:00,  7.48s/it]\n"
     ]
    }
   ],
   "source": [
    "# for unscaled cost\n",
    "record = []\n",
    "\n",
    "gamma_range = np.arange(0, 1.01, 0.1)\n",
    "neigh_range = list(range(0, 60, 5)) + [59]\n",
    "\n",
    "pbar = tqdm(neigh_range)\n",
    "for n_neighbours in pbar:\n",
    "    for gamma in gamma_range:\n",
    "        pbar.set_description(f'gamma = {gamma:.2f}, n = {n_neighbours}')\n",
    "        game = CongestionGame(agent_setup=(n_neighbours, gamma), order=last_cost_order)\n",
    "        game.play(n_stages=10, n_iterations=100, verbose=False)\n",
    "        min_cost = min([stage[2] for stage in game.run_history])\n",
    "        record.append([n_neighbours, gamma, min_cost])"
   ]
  },
  {
   "cell_type": "code",
   "execution_count": 34,
   "metadata": {},
   "outputs": [],
   "source": [
    "# export as a csv file, the record\n",
    "with open('record_unscaledcost.csv', 'w', newline='') as f:\n",
    "    writer = csv.writer(f)\n",
    "    writer.writerows(record)"
   ]
  },
  {
   "attachments": {},
   "cell_type": "markdown",
   "metadata": {},
   "source": [
    "## Vishnu params"
   ]
  },
  {
   "cell_type": "code",
   "execution_count": 35,
   "metadata": {},
   "outputs": [
    {
     "name": "stderr",
     "output_type": "stream",
     "text": [
      "gamma = 1.00, n = 199: 100%|██████████| 11/11 [13:46<00:00, 75.10s/it] \n"
     ]
    },
    {
     "data": {
      "text/plain": [
       "64.375"
      ]
     },
     "execution_count": 35,
     "metadata": {},
     "output_type": "execute_result"
    }
   ],
   "source": [
    "record = []\n",
    "\n",
    "gamma_range = np.arange(0, 1.01, 0.1)\n",
    "neigh_range = list(range(0, 200, 20)) + [199]\n",
    "\n",
    "pbar = tqdm(neigh_range)\n",
    "for n_neighbours in pbar:\n",
    "    for gamma in gamma_range:\n",
    "        pbar.set_description(f'gamma = {gamma:.2f}, n = {n_neighbours}')\n",
    "        game = CongestionGame(cost_setup=(40,15,0.1), n_agents=200, agent_setup=(n_neighbours, gamma), order=last_cost_order)\n",
    "        game.play(n_stages=10, n_iterations=100, verbose=False)\n",
    "        min_cost = min([stage[2] for stage in game.run_history])\n",
    "        record.append([n_neighbours, gamma, min_cost])\n",
    "min([stage[2] for stage in game.run_history])"
   ]
  },
  {
   "cell_type": "code",
   "execution_count": 36,
   "metadata": {},
   "outputs": [],
   "source": [
    "# export as a csv file, the record\n",
    "with open('record_road_unscaled.csv', 'w', newline='') as f:\n",
    "    writer = csv.writer(f)\n",
    "    writer.writerows(record)"
   ]
  }
 ],
 "metadata": {
  "kernelspec": {
   "display_name": "nsk",
   "language": "python",
   "name": "python3"
  },
  "language_info": {
   "codemirror_mode": {
    "name": "ipython",
    "version": 3
   },
   "file_extension": ".py",
   "mimetype": "text/x-python",
   "name": "python",
   "nbconvert_exporter": "python",
   "pygments_lexer": "ipython3",
   "version": "3.10.6"
  },
  "orig_nbformat": 4,
  "vscode": {
   "interpreter": {
    "hash": "7d12a422309641c6d1478d94e0cbea5c43052e292756ae0ab0ed5769db3671a4"
   }
  }
 },
 "nbformat": 4,
 "nbformat_minor": 2
}
