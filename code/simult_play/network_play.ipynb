{
 "cells": [
  {
   "cell_type": "code",
   "execution_count": 1,
   "metadata": {},
   "outputs": [],
   "source": [
    "import numpy as np\n",
    "import matplotlib.pyplot as plt"
   ]
  },
  {
   "cell_type": "code",
   "execution_count": 2,
   "metadata": {},
   "outputs": [],
   "source": [
    "class Actions:\n",
    "    ''' \n",
    "    Defines the actions available to the agent. \n",
    "    actions.last() returns the last action taken by the agent.\n",
    "    actions.next(action) updates the history of actions taken by the agent with the next action\n",
    "    '''\n",
    "    def __init__(self, actions):\n",
    "        self.all_actions = actions\n",
    "        self.history = [np.random.randint(len(actions))]\n",
    "    \n",
    "    def next(self, action):\n",
    "        self.history.append(action)\n",
    "\n",
    "    def last(self):\n",
    "        return self.history[-1]\n",
    "\n",
    "class Costs:\n",
    "    '''\n",
    "    costs.last() returns the last cost incurred by the agent.\n",
    "    costs.receive(cost) updates the history of costs incurred by the agent with the next cost\n",
    "    '''\n",
    "    def __init__(self):\n",
    "        self.history = []\n",
    "        self.accumulated = 0\n",
    "\n",
    "    def receive(self, cost):\n",
    "        self.accumulated += cost\n",
    "        self.history.append(cost)\n",
    "\n",
    "    def last(self):\n",
    "        return self.history[-1]"
   ]
  },
  {
   "cell_type": "code",
   "execution_count": 3,
   "metadata": {},
   "outputs": [],
   "source": [
    "class Agent:\n",
    "    def __init__(self, actions):\n",
    "        self.actions = Actions(actions)\n",
    "        self.costs = Costs()\n",
    "\n",
    "        self.initBrain()\n",
    "        self.neighbours = []\n",
    "\n",
    "    def initBrain(self):\n",
    "        self.brain = None\n",
    "\n",
    "    def take_action(self, state):\n",
    "        action = self.brain(state)\n",
    "        \n",
    "\n",
    "class CongestionGame:\n",
    "    def __init__(self, n_agents=60, cost_setup=(15, 2, 0.2, 22.96), n_neighbours=0):\n",
    "        self.actions = ['ABD', 'ACD', 'ABCD', 'ACBD']\n",
    "        self.n_BD, self.n_AC = 0, 0\n",
    "\n",
    "        self._init_agents(n_agents)\n",
    "        self._set_neighbours(n_neighbours)\n",
    "        self.stage, self.iteration = 0, 0\n",
    "        \n",
    "    def _init_agents(self, n_agents):\n",
    "        '''initializes agents and sets number taking BD and AC paths'''\n",
    "        self.n_agents = n_agents\n",
    "        self.agents = [Agent(self.actions) for _ in range(n_agents)]\n",
    "        first_actions = [agent.actions.last() for agent in self.agents]\n",
    "\n",
    "        num_of = lambda action: first_actions.count(self.actions.index(action))\n",
    "        self.n_BD = num_of('ABD') + num_of('ACBD')\n",
    "        self.n_AC = num_of('ACD') + num_of('ACBD')\n",
    "    \n",
    "    def _set_neighbours(self, n_neighbours):\n",
    "        '''sets neighbours for each agent assuming agents are in a circle'''\n",
    "        for i, agent in enumerate(self.agents):\n",
    "            agent.neighbours = [self.agents[(i + j) % self.n_agents] for j in range(1, n_neighbours + 1)]\n",
    "\n",
    "    def play(self, n_stages=1, n_iterations=1):\n",
    "        for _ in range(n_stages):\n",
    "            self.stage += 1\n",
    "            for _ in range(n_iterations):\n",
    "                self.iteration += 1\n",
    "                last_actions = [agent.actions.last() for agent in self.agents]\n",
    "\n",
    "                # take actions\n",
    "                pass\n",
    "\n",
    "                # receive costs\n",
    "                pass\n",
    "\n",
    "                if last_actions == [agent.actions.last() for agent in self.agents]:\n",
    "                    break"
   ]
  },
  {
   "cell_type": "code",
   "execution_count": 5,
   "metadata": {},
   "outputs": [
    {
     "data": {
      "text/plain": [
       "(30, 33)"
      ]
     },
     "execution_count": 5,
     "metadata": {},
     "output_type": "execute_result"
    }
   ],
   "source": [
    "game = CongestionGame()\n",
    "game.n_BD, game.n_AC"
   ]
  }
 ],
 "metadata": {
  "kernelspec": {
   "display_name": "nsk",
   "language": "python",
   "name": "python3"
  },
  "language_info": {
   "codemirror_mode": {
    "name": "ipython",
    "version": 3
   },
   "file_extension": ".py",
   "mimetype": "text/x-python",
   "name": "python",
   "nbconvert_exporter": "python",
   "pygments_lexer": "ipython3",
   "version": "3.10.6"
  },
  "orig_nbformat": 4,
  "vscode": {
   "interpreter": {
    "hash": "7d12a422309641c6d1478d94e0cbea5c43052e292756ae0ab0ed5769db3671a4"
   }
  }
 },
 "nbformat": 4,
 "nbformat_minor": 2
}
