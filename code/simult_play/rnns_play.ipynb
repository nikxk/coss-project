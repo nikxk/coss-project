{
 "cells": [
  {
   "cell_type": "code",
   "execution_count": 2,
   "metadata": {},
   "outputs": [],
   "source": [
    "import torch\n",
    "import torch.nn as nn\n",
    "\n",
    "import numpy as np\n",
    "import matplotlib.pyplot as plt\n",
    "\n"
   ]
  },
  {
   "cell_type": "code",
   "execution_count": null,
   "metadata": {},
   "outputs": [],
   "source": [
    "class Actions:\n",
    "    def __init__(self, actions):\n",
    "        self.all_actions = actions\n",
    "        self.history = [np.random.randint(len(actions))]\n",
    "    \n",
    "    def next(self, action):\n",
    "        self.history.append(action)\n",
    "\n",
    "    def last(self):\n",
    "        return self.history[-1]\n",
    "\n",
    "class Costs:\n",
    "    def __init__(self):\n",
    "        self.history = []\n",
    "        self.accumulated = 0\n",
    "\n",
    "    def receive(self, cost):\n",
    "        self.accumulated += cost\n",
    "        self.history.append(cost)\n",
    "\n",
    "    def last(self):\n",
    "        return self.history[-1]\n",
    "\n",
    "class Brain:\n",
    "    def __init__(self, input_size=2, hidden_size=4, num_layers=2):\n",
    "        self.input_size = input_size\n",
    "        self.hidden_size = hidden_size\n",
    "        self.num_layers = num_layers\n",
    "\n",
    "        self.rnn = nn.RNN(input_size=input_size, hidden_size=hidden_size, num_layers=num_layers)\n",
    "        # self.hidden = torch.zeros(num_layers, 1, hidden_size)\n",
    "\n",
    "        self.optimizer = torch.optim.Adam(self.rnn.parameters(), lr=0.01)\n",
    "        self.loss_fn = nn.NLLLoss()\n",
    "\n",
    "    def train(self, action, cost):\n",
    "        self.optimizer.zero_grad()\n",
    "        self.loss_fn(action, cost).backward()\n",
    "\n",
    "brain = Brain()\n",
    "\n",
    "class Player:\n",
    "    def __init__(self, actions):\n",
    "        self.actions = Actions(actions)\n",
    "        self.costs = Costs()\n",
    "\n",
    "        self.brain = brain\n",
    "        self.h = torch.randn(brain.num_layers, 1, brain.hidden_size)\n",
    "\n",
    "    def take_action(self, state):\n",
    "        self.out, self.h = self.brain.rnn(torch.as_tensor(state, dtype=torch.float32).view(1, 1, brain.input_size), self.h)\n",
    "        action = self.out.argmax().item()\n",
    "        self.actions.next(action)\n",
    "        return action\n",
    "\n",
    "    def receive_cost(self, cost, train=True):\n",
    "        self.costs.receive(cost)\n",
    "        # use the cost to train the brain rnn\n",
    "        \n",
    "\n",
    "\n"
   ]
  },
  {
   "cell_type": "code",
   "execution_count": 34,
   "metadata": {},
   "outputs": [
    {
     "data": {
      "text/plain": [
       "tensor(-0.3000)"
      ]
     },
     "execution_count": 34,
     "metadata": {},
     "output_type": "execute_result"
    }
   ],
   "source": [
    "nn.NLLLoss()(torch.as_tensor([0.1, 0.2, 0.3, 0.4], dtype=torch.float32).view(1, 4), torch.as_tensor([2], dtype=torch.long))"
   ]
  },
  {
   "cell_type": "code",
   "execution_count": 29,
   "metadata": {},
   "outputs": [
    {
     "name": "stdout",
     "output_type": "stream",
     "text": [
      "tensor([[[ 0.5896,  0.4205, -0.1433, -0.5489]]], grad_fn=<StackBackward0>)\n"
     ]
    }
   ],
   "source": [
    "brain = nn.RNN(input_size=2, hidden_size=4, num_layers=2)\n",
    "x = torch.randn(1, 1, 2)\n",
    "h0 = torch.randn(2, 1, 4)\n",
    "output, hn = brain(x, h0)\n",
    "print(output)"
   ]
  },
  {
   "cell_type": "code",
   "execution_count": null,
   "metadata": {},
   "outputs": [],
   "source": [
    "class CongestionGame:\n",
    "    def __init__(self, n_players=60, cost_setup=(15, 2, 0.2, 22.96)):\n",
    "        self.cost_f, self.cost_a, self.cost_a_mult, self.cost_best = cost_setup\n",
    "        self.actions = ['fa', 'fbf', 'af', 'aba']\n",
    "        \n"
   ]
  }
 ],
 "metadata": {
  "kernelspec": {
   "display_name": "Python 3.10.6 ('nsk')",
   "language": "python",
   "name": "python3"
  },
  "language_info": {
   "codemirror_mode": {
    "name": "ipython",
    "version": 3
   },
   "file_extension": ".py",
   "mimetype": "text/x-python",
   "name": "python",
   "nbconvert_exporter": "python",
   "pygments_lexer": "ipython3",
   "version": "3.10.6"
  },
  "orig_nbformat": 4,
  "vscode": {
   "interpreter": {
    "hash": "7d12a422309641c6d1478d94e0cbea5c43052e292756ae0ab0ed5769db3671a4"
   }
  }
 },
 "nbformat": 4,
 "nbformat_minor": 2
}
