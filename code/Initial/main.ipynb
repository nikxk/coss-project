{
 "cells": [
  {
   "cell_type": "code",
   "execution_count": 11,
   "metadata": {},
   "outputs": [],
   "source": [
    "from games import CongestionGameNoBridge\n",
    "\n",
    "game = CongestionGameNoBridge()"
   ]
  },
  {
   "cell_type": "code",
   "execution_count": 6,
   "metadata": {},
   "outputs": [],
   "source": [
    "game.play(100, till_convergence=True)"
   ]
  },
  {
   "cell_type": "code",
   "execution_count": 7,
   "metadata": {},
   "outputs": [
    {
     "name": "stdout",
     "output_type": "stream",
     "text": [
      "BD : 30, AC : 30 \n",
      "costs:{'ABD': 23.0, 'ACD': 23.0}\n"
     ]
    }
   ],
   "source": [
    "print(f'BD : {game.n_BD}, AC : {game.n_AC} \\ncosts:{game.costs()}')"
   ]
  },
  {
   "cell_type": "code",
   "execution_count": 8,
   "metadata": {},
   "outputs": [
    {
     "name": "stdout",
     "output_type": "stream",
     "text": [
      "Average cost is 23.00 per turn\n"
     ]
    }
   ],
   "source": [
    "sum = 0\n",
    "for player in game.players:\n",
    "    sum += player.accumulated_cost\n",
    "print(f'Average cost is {sum/len(game.players)/game.iterations:.2f} per turn')"
   ]
  },
  {
   "cell_type": "code",
   "execution_count": 50,
   "metadata": {},
   "outputs": [],
   "source": [
    "from games import CongestionGameBridge\n",
    "\n",
    "gameB = CongestionGameBridge(gamma=1)"
   ]
  },
  {
   "cell_type": "code",
   "execution_count": 56,
   "metadata": {},
   "outputs": [
    {
     "name": "stdout",
     "output_type": "stream",
     "text": [
      "BD : 32, AC : 33 \n",
      "costs : {'ABD': 23.4, 'ACD': 23.6, 'ABCD': 30, 'ACBD': 17.0}\n",
      "ABD : 15,  ACD : 16,  ABCD : 12,  ACBD : 17,  \n"
     ]
    }
   ],
   "source": [
    "print(f'BD : {gameB.n_BD}, AC : {gameB.n_AC} \\ncosts : {gameB.costs()}')\n",
    "\n",
    "acts = [player.action for player in gameB.players]\n",
    "print(''.join([f'{act} : {acts.count(act)},  ' for act in gameB.actions]))"
   ]
  },
  {
   "cell_type": "code",
   "execution_count": 52,
   "metadata": {},
   "outputs": [],
   "source": [
    "gameB.play()"
   ]
  },
  {
   "cell_type": "code",
   "execution_count": 57,
   "metadata": {},
   "outputs": [
    {
     "name": "stdout",
     "output_type": "stream",
     "text": [
      "Average cost is 22.96 per turn (over all turns)\n",
      "Average cost is 22.96 in the last turn\n"
     ]
    }
   ],
   "source": [
    "sum_all, sum_last = 0, 0\n",
    "for player in gameB.players:\n",
    "    sum_all += player.accumulated_cost\n",
    "    sum_last += player.cost\n",
    "print(f'Average cost is {sum_all/len(gameB.players)/gameB.iterations:.2f} per turn (over all turns)')\n",
    "print(f'Average cost is {sum_last/len(gameB.players):.2f} in the last turn')"
   ]
  },
  {
   "cell_type": "code",
   "execution_count": 73,
   "metadata": {},
   "outputs": [
    {
     "name": "stderr",
     "output_type": "stream",
     "text": [
      "100%|██████████| 150/150 [00:04<00:00, 34.70it/s]\n"
     ]
    }
   ],
   "source": [
    "import matplotlib.pyplot as plt\n",
    "import numpy as np\n",
    "from tqdm import tqdm\n",
    "\n",
    "record = {}\n",
    "for gamma in tqdm(np.arange(0.,1.5,0.01)):\n",
    "    collect = []\n",
    "    for _ in range(10):\n",
    "        gameB = CongestionGameBridge(gamma=gamma)\n",
    "        gameB.play(rounds = 100, till_convergence=True)\n",
    "        sum_last = 0\n",
    "        for player in gameB.players:\n",
    "            sum_last += player.cost\n",
    "        collect.append(sum_last/len(gameB.players))\n",
    "    record[gamma] = min(collect)"
   ]
  },
  {
   "cell_type": "code",
   "execution_count": 75,
   "metadata": {},
   "outputs": [
    {
     "data": {
      "image/png": "[encoded data removed]",
      "text/plain": [
       "<Figure size 640x480 with 1 Axes>"
      ]
     },
     "metadata": {},
     "output_type": "display_data"
    }
   ],
   "source": [
    "# plot a graph of the average cost per turn for each gamma\n",
    "plt.plot(list(record.keys()), list(record.values()))\n",
    "plt.xlabel('gamma')\n",
    "plt.ylabel('average cost per turn')\n",
    "# plot a straight line at average cost = 23\n",
    "plt.plot([0,1.5], [23,23], 'r--')\n",
    "plt.show()"
   ]
  }
 ],
 "metadata": {
  "kernelspec": {
   "display_name": "Python 3.10.6 ('nsk')",
   "language": "python",
   "name": "python3"
  },
  "language_info": {
   "codemirror_mode": {
    "name": "ipython",
    "version": 3
   },
   "file_extension": ".py",
   "mimetype": "text/x-python",
   "name": "python",
   "nbconvert_exporter": "python",
   "pygments_lexer": "ipython3",
   "version": "3.10.6"
  },
  "orig_nbformat": 4,
  "vscode": {
   "interpreter": {
    "hash": "7d12a422309641c6d1478d94e0cbea5c43052e292756ae0ab0ed5769db3671a4"
   }
  }
 },
 "nbformat": 4,
 "nbformat_minor": 2
}
